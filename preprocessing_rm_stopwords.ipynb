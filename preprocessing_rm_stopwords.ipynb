{
  "nbformat": 4,
  "nbformat_minor": 0,
  "metadata": {
    "colab": {
      "name": "preprocessing_rm_stopwords.ipynb",
      "provenance": [],
      "collapsed_sections": [],
      "mount_file_id": "1jM1Lz4lc5FnIi5H7niXc82CDD1lSIzCS",
      "authorship_tag": "ABX9TyOleyuZM8yhzIsJUTW4wNq1",
      "include_colab_link": true
    },
    "kernelspec": {
      "name": "python3",
      "display_name": "Python 3"
    },
    "language_info": {
      "name": "python"
    }
  },
  "cells": [
    {
      "cell_type": "markdown",
      "metadata": {
        "id": "view-in-github",
        "colab_type": "text"
      },
      "source": [
        "<a href=\"https://colab.research.google.com/github/isoomni/bitcoin_twitter/blob/master/preprocessing_rm_stopwords.ipynb\" target=\"_parent\"><img src=\"https://colab.research.google.com/assets/colab-badge.svg\" alt=\"Open In Colab\"/></a>"
      ]
    },
    {
      "cell_type": "code",
      "metadata": {
        "colab": {
          "base_uri": "https://localhost:8080/"
        },
        "id": "3YVYScgyNK9T",
        "outputId": "e398dbc1-a4cb-4157-8af5-4417b0448a2b"
      },
      "source": [
        "cd /content/drive/MyDrive/"
      ],
      "execution_count": 1,
      "outputs": [
        {
          "output_type": "stream",
          "name": "stdout",
          "text": [
            "/content/drive/MyDrive\n"
          ]
        }
      ]
    },
    {
      "cell_type": "code",
      "metadata": {
        "id": "b4U3CwGCNUDj"
      },
      "source": [
        "import pandas as pd\n"
      ],
      "execution_count": 3,
      "outputs": []
    },
    {
      "cell_type": "code",
      "metadata": {
        "colab": {
          "base_uri": "https://localhost:8080/",
          "height": 262
        },
        "id": "I5AOpjNoNWma",
        "outputId": "71052e97-fd08-48bb-9d91-df50756ab374"
      },
      "source": [
        "tweets = pd.read_csv('tweets_eng.csv')\n",
        "tweets.head()"
      ],
      "execution_count": 4,
      "outputs": [
        {
          "output_type": "stream",
          "name": "stderr",
          "text": [
            "/usr/local/lib/python3.7/dist-packages/IPython/core/interactiveshell.py:2718: DtypeWarning: Columns (0) have mixed types.Specify dtype option on import or set low_memory=False.\n",
            "  interactivity=interactivity, compiler=compiler, result=result)\n"
          ]
        },
        {
          "output_type": "execute_result",
          "data": {
            "text/html": [
              "<div>\n",
              "<style scoped>\n",
              "    .dataframe tbody tr th:only-of-type {\n",
              "        vertical-align: middle;\n",
              "    }\n",
              "\n",
              "    .dataframe tbody tr th {\n",
              "        vertical-align: top;\n",
              "    }\n",
              "\n",
              "    .dataframe thead th {\n",
              "        text-align: right;\n",
              "    }\n",
              "</style>\n",
              "<table border=\"1\" class=\"dataframe\">\n",
              "  <thead>\n",
              "    <tr style=\"text-align: right;\">\n",
              "      <th></th>\n",
              "      <th>Unnamed: 0</th>\n",
              "      <th>timestamp</th>\n",
              "      <th>text</th>\n",
              "      <th>lang</th>\n",
              "    </tr>\n",
              "  </thead>\n",
              "  <tbody>\n",
              "    <tr>\n",
              "      <th>0</th>\n",
              "      <td>1</td>\n",
              "      <td>2019-05-27 11:49:18+00</td>\n",
              "      <td>Cardano: Digitize Currencies; EOS https://t.co...</td>\n",
              "      <td>en</td>\n",
              "    </tr>\n",
              "    <tr>\n",
              "      <th>1</th>\n",
              "      <td>2</td>\n",
              "      <td>2019-05-27 11:49:06+00</td>\n",
              "      <td>Another Test tweet that wasn't caught in the s...</td>\n",
              "      <td>en</td>\n",
              "    </tr>\n",
              "    <tr>\n",
              "      <th>2</th>\n",
              "      <td>3</td>\n",
              "      <td>2019-05-27 11:49:22+00</td>\n",
              "      <td>Current Crypto Prices! \\n\\nBTC: $8721.99 USD\\n...</td>\n",
              "      <td>en</td>\n",
              "    </tr>\n",
              "    <tr>\n",
              "      <th>3</th>\n",
              "      <td>4</td>\n",
              "      <td>2019-05-27 11:49:23+00</td>\n",
              "      <td>Spiv (Nosar Baz): BITCOIN Is An Asset &amp;amp; NO...</td>\n",
              "      <td>en</td>\n",
              "    </tr>\n",
              "    <tr>\n",
              "      <th>4</th>\n",
              "      <td>6</td>\n",
              "      <td>2019-05-27 11:49:25+00</td>\n",
              "      <td>@nwoodfine We have been building on the real #...</td>\n",
              "      <td>en</td>\n",
              "    </tr>\n",
              "  </tbody>\n",
              "</table>\n",
              "</div>"
            ],
            "text/plain": [
              "  Unnamed: 0  ... lang\n",
              "0          1  ...   en\n",
              "1          2  ...   en\n",
              "2          3  ...   en\n",
              "3          4  ...   en\n",
              "4          6  ...   en\n",
              "\n",
              "[5 rows x 4 columns]"
            ]
          },
          "metadata": {},
          "execution_count": 4
        }
      ]
    },
    {
      "cell_type": "code",
      "metadata": {
        "colab": {
          "base_uri": "https://localhost:8080/"
        },
        "id": "jZO7AwQOPvQt",
        "outputId": "6e75087e-8a7c-4434-adcc-e674b575248c"
      },
      "source": [
        "import re\n",
        "import numpy as np\n",
        "import json\n",
        "from bs4 import BeautifulSoup\n",
        "import nltk\n",
        "nltk.download('stopwords')\n",
        "from nltk.corpus import stopwords\n",
        "\n",
        "from tensorflow.python.keras.preprocessing.sequence import pad_sequences\n",
        "from tensorflow.python.keras.preprocessing.text import Tokenizer"
      ],
      "execution_count": 5,
      "outputs": [
        {
          "output_type": "stream",
          "name": "stdout",
          "text": [
            "[nltk_data] Downloading package stopwords to /root/nltk_data...\n",
            "[nltk_data]   Unzipping corpora/stopwords.zip.\n"
          ]
        }
      ]
    },
    {
      "cell_type": "code",
      "metadata": {
        "id": "gbD8weIBPIdr",
        "colab": {
          "base_uri": "https://localhost:8080/",
          "height": 54
        },
        "outputId": "40ed94c1-2bd4-4060-d0ac-0d4b0708b53b"
      },
      "source": [
        "def preprocessing(text, remove_stopwords=False):\n",
        "    # 불용어 제거는 선택 가능하도록(경우에 따라 불용어 제거가 역효과를 가져올 수 있다.)\n",
        "    \n",
        "    # 1. HTML 태그 제거\n",
        "    # tweets_text = BeautifulSoup(text, \"html5lib\").get_text()\n",
        "\n",
        "    # 2. 영어가 아닌 특수문자들을 공백(\" \")으로 바꾸기\n",
        "    tweets_text = re.sub(\"[^a-zA-Z]\", \" \", str(text)) # 이거 str으로 바꾼거 오류 잡혔는지 확인해야 함.\n",
        "\n",
        "    # 3. 대문자들을 소문자로 바꾸고 공백단위로 텍스트들 나눠서 리스트로 만든다.\n",
        "    words = tweets_text.lower().split()\n",
        "\n",
        "    if remove_stopwords: \n",
        "        # 4. 불용어들을 제거\n",
        "    \n",
        "        #영어에 관련된 불용어 불러오기\n",
        "        stops = set(stopwords.words(\"english\"))\n",
        "        # 불용어가 아닌 단어들로 이루어진 새로운 리스트 생성\n",
        "        words = [w for w in words if not w in stops]\n",
        "        # 5. 단어 리스트를 공백을 넣어서 하나의 글로 합친다.\n",
        "        clean_tweets = ' '.join(words)\n",
        "\n",
        "    else: # 불용어 제거하지 않을 때\n",
        "        clean_tweets = ' '.join(words)\n",
        "\n",
        "    return clean_tweets\n",
        "\n",
        "clean_tweets = []\n",
        "for text in tweets['text']:\n",
        "    clean_tweets.append(preprocessing(text, remove_stopwords=True))\n",
        "\n",
        "# 전처리된 데이터 확인\n",
        "clean_tweets[0]"
      ],
      "execution_count": 6,
      "outputs": [
        {
          "output_type": "execute_result",
          "data": {
            "application/vnd.google.colaboratory.intrinsic+json": {
              "type": "string"
            },
            "text/plain": [
              "'cardano digitize currencies eos https co ktkqkebls roi amp bitcoin bill pay https co eqcwoxkhk cardano ada folloforfolloback follo folloback followforfollow bitcointe cryptocurrency'"
            ]
          },
          "metadata": {},
          "execution_count": 6
        }
      ]
    },
    {
      "cell_type": "code",
      "metadata": {
        "id": "7ZmeHq2JyFVc"
      },
      "source": [
        ""
      ],
      "execution_count": null,
      "outputs": []
    },
    {
      "cell_type": "code",
      "metadata": {
        "id": "ldN6PpLZ-jmi"
      },
      "source": [
        "clean_tweets_df = pd.DataFrame({'timestamp': tweets['timestamp'], 'review': clean_tweets })"
      ],
      "execution_count": 7,
      "outputs": []
    },
    {
      "cell_type": "code",
      "metadata": {
        "colab": {
          "base_uri": "https://localhost:8080/",
          "height": 206
        },
        "id": "6o0SR4sayJPn",
        "outputId": "4e2484e3-5447-44c9-9eef-fe836d7994c6"
      },
      "source": [
        "clean_tweets_df.head()"
      ],
      "execution_count": 9,
      "outputs": [
        {
          "output_type": "execute_result",
          "data": {
            "text/html": [
              "<div>\n",
              "<style scoped>\n",
              "    .dataframe tbody tr th:only-of-type {\n",
              "        vertical-align: middle;\n",
              "    }\n",
              "\n",
              "    .dataframe tbody tr th {\n",
              "        vertical-align: top;\n",
              "    }\n",
              "\n",
              "    .dataframe thead th {\n",
              "        text-align: right;\n",
              "    }\n",
              "</style>\n",
              "<table border=\"1\" class=\"dataframe\">\n",
              "  <thead>\n",
              "    <tr style=\"text-align: right;\">\n",
              "      <th></th>\n",
              "      <th>timestamp</th>\n",
              "      <th>review</th>\n",
              "    </tr>\n",
              "  </thead>\n",
              "  <tbody>\n",
              "    <tr>\n",
              "      <th>0</th>\n",
              "      <td>2019-05-27 11:49:18+00</td>\n",
              "      <td>cardano digitize currencies eos https co ktkqk...</td>\n",
              "    </tr>\n",
              "    <tr>\n",
              "      <th>1</th>\n",
              "      <td>2019-05-27 11:49:06+00</td>\n",
              "      <td>another test tweet caught stream bitcoin</td>\n",
              "    </tr>\n",
              "    <tr>\n",
              "      <th>2</th>\n",
              "      <td>2019-05-27 11:49:22+00</td>\n",
              "      <td>current crypto prices btc usd eth usd ltc usd ...</td>\n",
              "    </tr>\n",
              "    <tr>\n",
              "      <th>3</th>\n",
              "      <td>2019-05-27 11:49:23+00</td>\n",
              "      <td>spiv nosar baz bitcoin asset amp currency http...</td>\n",
              "    </tr>\n",
              "    <tr>\n",
              "      <th>4</th>\n",
              "      <td>2019-05-27 11:49:25+00</td>\n",
              "      <td>nwoodfine building real bitcoin sv building br...</td>\n",
              "    </tr>\n",
              "  </tbody>\n",
              "</table>\n",
              "</div>"
            ],
            "text/plain": [
              "                timestamp                                             review\n",
              "0  2019-05-27 11:49:18+00  cardano digitize currencies eos https co ktkqk...\n",
              "1  2019-05-27 11:49:06+00           another test tweet caught stream bitcoin\n",
              "2  2019-05-27 11:49:22+00  current crypto prices btc usd eth usd ltc usd ...\n",
              "3  2019-05-27 11:49:23+00  spiv nosar baz bitcoin asset amp currency http...\n",
              "4  2019-05-27 11:49:25+00  nwoodfine building real bitcoin sv building br..."
            ]
          },
          "metadata": {},
          "execution_count": 9
        }
      ]
    },
    {
      "cell_type": "code",
      "metadata": {
        "id": "4oBc_QegBviA"
      },
      "source": [
        "clean_tweets_df.to_csv('clean_tweets_df.csv')"
      ],
      "execution_count": 10,
      "outputs": []
    }
  ]
}
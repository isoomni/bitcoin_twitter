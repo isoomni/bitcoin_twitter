{
  "nbformat": 4,
  "nbformat_minor": 0,
  "metadata": {
    "colab": {
      "name": "tweets_wordcloud.ipynb",
      "provenance": [],
      "mount_file_id": "1h8dWjJH10PDBRSoKa2sK-lx7oroTVLJ-",
      "authorship_tag": "ABX9TyMNnN92/NizD4Az+KvW17Ca",
      "include_colab_link": true
    },
    "kernelspec": {
      "name": "python3",
      "display_name": "Python 3"
    },
    "language_info": {
      "name": "python"
    }
  },
  "cells": [
    {
      "cell_type": "markdown",
      "metadata": {
        "id": "view-in-github",
        "colab_type": "text"
      },
      "source": [
        "<a href=\"https://colab.research.google.com/github/isoomni/bitcoin_twitter/blob/master/tweets_wordcloud.ipynb\" target=\"_parent\"><img src=\"https://colab.research.google.com/assets/colab-badge.svg\" alt=\"Open In Colab\"/></a>"
      ]
    },
    {
      "cell_type": "markdown",
      "metadata": {
        "id": "oSUpHnkAj1MO"
      },
      "source": [
        "### 전처리 for 워드클라우드"
      ]
    },
    {
      "cell_type": "code",
      "metadata": {
        "colab": {
          "base_uri": "https://localhost:8080/"
        },
        "id": "-ROHgXoaBnP7",
        "outputId": "daff07c4-9031-48c3-f0df-09251b16fcca"
      },
      "source": [
        "pip install KoNLPy"
      ],
      "execution_count": null,
      "outputs": [
        {
          "output_type": "stream",
          "name": "stdout",
          "text": [
            "Requirement already satisfied: KoNLPy in /usr/local/lib/python3.7/dist-packages (0.5.2)\n",
            "Requirement already satisfied: lxml>=4.1.0 in /usr/local/lib/python3.7/dist-packages (from KoNLPy) (4.2.6)\n",
            "Requirement already satisfied: tweepy>=3.7.0 in /usr/local/lib/python3.7/dist-packages (from KoNLPy) (3.10.0)\n",
            "Requirement already satisfied: numpy>=1.6 in /usr/local/lib/python3.7/dist-packages (from KoNLPy) (1.19.5)\n",
            "Requirement already satisfied: beautifulsoup4==4.6.0 in /usr/local/lib/python3.7/dist-packages (from KoNLPy) (4.6.0)\n",
            "Requirement already satisfied: JPype1>=0.7.0 in /usr/local/lib/python3.7/dist-packages (from KoNLPy) (1.3.0)\n",
            "Requirement already satisfied: colorama in /usr/local/lib/python3.7/dist-packages (from KoNLPy) (0.4.4)\n",
            "Requirement already satisfied: typing-extensions in /usr/local/lib/python3.7/dist-packages (from JPype1>=0.7.0->KoNLPy) (3.10.0.2)\n",
            "Requirement already satisfied: requests-oauthlib>=0.7.0 in /usr/local/lib/python3.7/dist-packages (from tweepy>=3.7.0->KoNLPy) (1.3.0)\n",
            "Requirement already satisfied: requests[socks]>=2.11.1 in /usr/local/lib/python3.7/dist-packages (from tweepy>=3.7.0->KoNLPy) (2.23.0)\n",
            "Requirement already satisfied: six>=1.10.0 in /usr/local/lib/python3.7/dist-packages (from tweepy>=3.7.0->KoNLPy) (1.15.0)\n",
            "Requirement already satisfied: oauthlib>=3.0.0 in /usr/local/lib/python3.7/dist-packages (from requests-oauthlib>=0.7.0->tweepy>=3.7.0->KoNLPy) (3.1.1)\n",
            "Requirement already satisfied: chardet<4,>=3.0.2 in /usr/local/lib/python3.7/dist-packages (from requests[socks]>=2.11.1->tweepy>=3.7.0->KoNLPy) (3.0.4)\n",
            "Requirement already satisfied: urllib3!=1.25.0,!=1.25.1,<1.26,>=1.21.1 in /usr/local/lib/python3.7/dist-packages (from requests[socks]>=2.11.1->tweepy>=3.7.0->KoNLPy) (1.24.3)\n",
            "Requirement already satisfied: certifi>=2017.4.17 in /usr/local/lib/python3.7/dist-packages (from requests[socks]>=2.11.1->tweepy>=3.7.0->KoNLPy) (2021.10.8)\n",
            "Requirement already satisfied: idna<3,>=2.5 in /usr/local/lib/python3.7/dist-packages (from requests[socks]>=2.11.1->tweepy>=3.7.0->KoNLPy) (2.10)\n",
            "Requirement already satisfied: PySocks!=1.5.7,>=1.5.6 in /usr/local/lib/python3.7/dist-packages (from requests[socks]>=2.11.1->tweepy>=3.7.0->KoNLPy) (1.7.1)\n"
          ]
        }
      ]
    },
    {
      "cell_type": "code",
      "metadata": {
        "colab": {
          "base_uri": "https://localhost:8080/"
        },
        "id": "i8RAQo7eDdcK",
        "outputId": "43d377c8-419d-465b-edef-a89665f1d180"
      },
      "source": [
        "pip install pyperclip"
      ],
      "execution_count": null,
      "outputs": [
        {
          "output_type": "stream",
          "name": "stdout",
          "text": [
            "Requirement already satisfied: pyperclip in /usr/local/lib/python3.7/dist-packages (1.8.2)\n"
          ]
        }
      ]
    },
    {
      "cell_type": "code",
      "metadata": {
        "id": "ZTCkYMZVDf5w"
      },
      "source": [
        "import numpy as np\n",
        "import pandas as pd\n",
        "\n",
        "from konlpy.tag import Okt\n",
        "from wordcloud import WordCloud,STOPWORDS\n",
        "from wordcloud import ImageColorGenerator\n"
      ],
      "execution_count": null,
      "outputs": []
    },
    {
      "cell_type": "code",
      "metadata": {
        "id": "cPtgPt9dDtn9",
        "colab": {
          "base_uri": "https://localhost:8080/",
          "height": 206
        },
        "outputId": "697f741d-6f72-4c76-97f3-b1a48421d202"
      },
      "source": [
        "df = pd.read_csv('/content/drive/MyDrive/tweet_bitcoin/clean_tweets_df.csv')\n",
        "df.head()"
      ],
      "execution_count": null,
      "outputs": [
        {
          "output_type": "execute_result",
          "data": {
            "text/html": [
              "<div>\n",
              "<style scoped>\n",
              "    .dataframe tbody tr th:only-of-type {\n",
              "        vertical-align: middle;\n",
              "    }\n",
              "\n",
              "    .dataframe tbody tr th {\n",
              "        vertical-align: top;\n",
              "    }\n",
              "\n",
              "    .dataframe thead th {\n",
              "        text-align: right;\n",
              "    }\n",
              "</style>\n",
              "<table border=\"1\" class=\"dataframe\">\n",
              "  <thead>\n",
              "    <tr style=\"text-align: right;\">\n",
              "      <th></th>\n",
              "      <th>Unnamed: 0</th>\n",
              "      <th>timestamp</th>\n",
              "      <th>review</th>\n",
              "    </tr>\n",
              "  </thead>\n",
              "  <tbody>\n",
              "    <tr>\n",
              "      <th>0</th>\n",
              "      <td>0</td>\n",
              "      <td>2019-05-27 11:49:18+00</td>\n",
              "      <td>cardano digitize currencies eos https co ktkqk...</td>\n",
              "    </tr>\n",
              "    <tr>\n",
              "      <th>1</th>\n",
              "      <td>1</td>\n",
              "      <td>2019-05-27 11:49:06+00</td>\n",
              "      <td>another test tweet caught stream bitcoin</td>\n",
              "    </tr>\n",
              "    <tr>\n",
              "      <th>2</th>\n",
              "      <td>2</td>\n",
              "      <td>2019-05-27 11:49:22+00</td>\n",
              "      <td>current crypto prices btc usd eth usd ltc usd ...</td>\n",
              "    </tr>\n",
              "    <tr>\n",
              "      <th>3</th>\n",
              "      <td>3</td>\n",
              "      <td>2019-05-27 11:49:23+00</td>\n",
              "      <td>spiv nosar baz bitcoin asset amp currency http...</td>\n",
              "    </tr>\n",
              "    <tr>\n",
              "      <th>4</th>\n",
              "      <td>4</td>\n",
              "      <td>2019-05-27 11:49:25+00</td>\n",
              "      <td>nwoodfine building real bitcoin sv building br...</td>\n",
              "    </tr>\n",
              "  </tbody>\n",
              "</table>\n",
              "</div>"
            ],
            "text/plain": [
              "   Unnamed: 0  ...                                             review\n",
              "0           0  ...  cardano digitize currencies eos https co ktkqk...\n",
              "1           1  ...           another test tweet caught stream bitcoin\n",
              "2           2  ...  current crypto prices btc usd eth usd ltc usd ...\n",
              "3           3  ...  spiv nosar baz bitcoin asset amp currency http...\n",
              "4           4  ...  nwoodfine building real bitcoin sv building br...\n",
              "\n",
              "[5 rows x 3 columns]"
            ]
          },
          "metadata": {},
          "execution_count": 11
        }
      ]
    },
    {
      "cell_type": "code",
      "metadata": {
        "colab": {
          "base_uri": "https://localhost:8080/"
        },
        "id": "1UOHR_j3IYCt",
        "outputId": "5aa32001-dab3-46b6-b9d3-72bb1bfcf02b"
      },
      "source": [
        "# timestamp에 'en', null 값 제거\n",
        "indexes = df[df['timestamp']=='en'].index\n",
        "df = df.drop(index=indexes, axis=0)\n",
        "df = df.dropna(how='any', axis=0)\n",
        "df['timestamp'].unique()"
      ],
      "execution_count": null,
      "outputs": [
        {
          "output_type": "execute_result",
          "data": {
            "text/plain": [
              "array(['2019-05-27 11:49:18+00', '2019-05-27 11:49:06+00',\n",
              "       '2019-05-27 11:49:22+00', ..., '2019-11-23 15:45:56+00',\n",
              "       '2019-11-23 15:45:57+00', '2019-11-23 15:45:06+00'], dtype=object)"
            ]
          },
          "metadata": {},
          "execution_count": 12
        }
      ]
    },
    {
      "cell_type": "code",
      "metadata": {
        "colab": {
          "base_uri": "https://localhost:8080/",
          "height": 424
        },
        "id": "QxmCwWRCIiD1",
        "outputId": "735836c7-bc11-47a4-d696-72b0beb85ce1"
      },
      "source": [
        "# 시간 순서로 정렬\n",
        "df.sort_values(by='timestamp')"
      ],
      "execution_count": null,
      "outputs": [
        {
          "output_type": "execute_result",
          "data": {
            "text/html": [
              "<div>\n",
              "<style scoped>\n",
              "    .dataframe tbody tr th:only-of-type {\n",
              "        vertical-align: middle;\n",
              "    }\n",
              "\n",
              "    .dataframe tbody tr th {\n",
              "        vertical-align: top;\n",
              "    }\n",
              "\n",
              "    .dataframe thead th {\n",
              "        text-align: right;\n",
              "    }\n",
              "</style>\n",
              "<table border=\"1\" class=\"dataframe\">\n",
              "  <thead>\n",
              "    <tr style=\"text-align: right;\">\n",
              "      <th></th>\n",
              "      <th>Unnamed: 0</th>\n",
              "      <th>timestamp</th>\n",
              "      <th>review</th>\n",
              "    </tr>\n",
              "  </thead>\n",
              "  <tbody>\n",
              "    <tr>\n",
              "      <th>10143492</th>\n",
              "      <td>10143492</td>\n",
              "      <td>2007-04-19 07:14:38+00</td>\n",
              "      <td>happily mugging btc hook future rich lawyer bf...</td>\n",
              "    </tr>\n",
              "    <tr>\n",
              "      <th>14</th>\n",
              "      <td>14</td>\n",
              "      <td>2009-01-11 03:33:52+00</td>\n",
              "      <td>running bitcoin</td>\n",
              "    </tr>\n",
              "    <tr>\n",
              "      <th>4580370</th>\n",
              "      <td>4580370</td>\n",
              "      <td>2009-01-21 17:29:40+00</td>\n",
              "      <td>looking ways add anonymity bitcoin</td>\n",
              "    </tr>\n",
              "    <tr>\n",
              "      <th>4616565</th>\n",
              "      <td>4616565</td>\n",
              "      <td>2009-01-27 20:14:10+00</td>\n",
              "      <td>thinking reduce co emissions widespread bitcoi...</td>\n",
              "    </tr>\n",
              "    <tr>\n",
              "      <th>4663012</th>\n",
              "      <td>4663012</td>\n",
              "      <td>2009-01-29 13:37:53+00</td>\n",
              "      <td>satoshi nakamoto bitcoin v available</td>\n",
              "    </tr>\n",
              "    <tr>\n",
              "      <th>...</th>\n",
              "      <td>...</td>\n",
              "      <td>...</td>\n",
              "      <td>...</td>\n",
              "    </tr>\n",
              "    <tr>\n",
              "      <th>14583111</th>\n",
              "      <td>14583111</td>\n",
              "      <td>2019-11-23 15:45:53+00</td>\n",
              "      <td>worlds first millennium firm https co lqgie ak...</td>\n",
              "    </tr>\n",
              "    <tr>\n",
              "      <th>14583113</th>\n",
              "      <td>14583113</td>\n",
              "      <td>2019-11-23 15:45:55+00</td>\n",
              "      <td>daily profit hodling btc since data taken sinc...</td>\n",
              "    </tr>\n",
              "    <tr>\n",
              "      <th>14583115</th>\n",
              "      <td>14583115</td>\n",
              "      <td>2019-11-23 15:45:55+00</td>\n",
              "      <td>bitcoin suisse certificates https co ndabknotk</td>\n",
              "    </tr>\n",
              "    <tr>\n",
              "      <th>14583116</th>\n",
              "      <td>14583116</td>\n",
              "      <td>2019-11-23 15:45:56+00</td>\n",
              "      <td>register early access codugh api marketplace p...</td>\n",
              "    </tr>\n",
              "    <tr>\n",
              "      <th>14583117</th>\n",
              "      <td>14583117</td>\n",
              "      <td>2019-11-23 15:45:57+00</td>\n",
              "      <td>btc btc know btc baskets bank gifting platform...</td>\n",
              "    </tr>\n",
              "  </tbody>\n",
              "</table>\n",
              "<p>14575394 rows × 3 columns</p>\n",
              "</div>"
            ],
            "text/plain": [
              "          Unnamed: 0  ...                                             review\n",
              "10143492    10143492  ...  happily mugging btc hook future rich lawyer bf...\n",
              "14                14  ...                                    running bitcoin\n",
              "4580370      4580370  ...                 looking ways add anonymity bitcoin\n",
              "4616565      4616565  ...  thinking reduce co emissions widespread bitcoi...\n",
              "4663012      4663012  ...               satoshi nakamoto bitcoin v available\n",
              "...              ...  ...                                                ...\n",
              "14583111    14583111  ...  worlds first millennium firm https co lqgie ak...\n",
              "14583113    14583113  ...  daily profit hodling btc since data taken sinc...\n",
              "14583115    14583115  ...     bitcoin suisse certificates https co ndabknotk\n",
              "14583116    14583116  ...  register early access codugh api marketplace p...\n",
              "14583117    14583117  ...  btc btc know btc baskets bank gifting platform...\n",
              "\n",
              "[14575394 rows x 3 columns]"
            ]
          },
          "metadata": {},
          "execution_count": 13
        }
      ]
    },
    {
      "cell_type": "code",
      "metadata": {
        "colab": {
          "base_uri": "https://localhost:8080/"
        },
        "id": "mZF6MpWaIk_W",
        "outputId": "e149800c-881d-46fe-9ac4-f20b64bf0f0a"
      },
      "source": [
        "# 연월일로 열 생성\n",
        "df['date'] = pd.to_datetime(df['timestamp'],format= '%Y-%m-%d').dt.date\n",
        "df['date']"
      ],
      "execution_count": null,
      "outputs": [
        {
          "output_type": "execute_result",
          "data": {
            "text/plain": [
              "0           2019-05-27\n",
              "1           2019-05-27\n",
              "2           2019-05-27\n",
              "3           2019-05-27\n",
              "4           2019-05-27\n",
              "               ...    \n",
              "14583114    2019-11-23\n",
              "14583115    2019-11-23\n",
              "14583116    2019-11-23\n",
              "14583117    2019-11-23\n",
              "14583118    2019-11-23\n",
              "Name: date, Length: 14575394, dtype: object"
            ]
          },
          "metadata": {},
          "execution_count": 14
        }
      ]
    },
    {
      "cell_type": "code",
      "metadata": {
        "colab": {
          "base_uri": "https://localhost:8080/",
          "height": 424
        },
        "id": "1y3MdKzyfHSX",
        "outputId": "eb5ae055-80c6-4a53-d679-47b725a008b4"
      },
      "source": [
        "df = df.reset_index(drop=True)\n",
        "df = df[['date','review']]\n",
        "df = df.sort_values(by='date')\n",
        "df"
      ],
      "execution_count": null,
      "outputs": [
        {
          "output_type": "execute_result",
          "data": {
            "text/html": [
              "<div>\n",
              "<style scoped>\n",
              "    .dataframe tbody tr th:only-of-type {\n",
              "        vertical-align: middle;\n",
              "    }\n",
              "\n",
              "    .dataframe tbody tr th {\n",
              "        vertical-align: top;\n",
              "    }\n",
              "\n",
              "    .dataframe thead th {\n",
              "        text-align: right;\n",
              "    }\n",
              "</style>\n",
              "<table border=\"1\" class=\"dataframe\">\n",
              "  <thead>\n",
              "    <tr style=\"text-align: right;\">\n",
              "      <th></th>\n",
              "      <th>date</th>\n",
              "      <th>review</th>\n",
              "    </tr>\n",
              "  </thead>\n",
              "  <tbody>\n",
              "    <tr>\n",
              "      <th>0</th>\n",
              "      <td>2007-04-19</td>\n",
              "      <td>happily mugging btc hook future rich lawyer bf...</td>\n",
              "    </tr>\n",
              "    <tr>\n",
              "      <th>1</th>\n",
              "      <td>2009-01-11</td>\n",
              "      <td>running bitcoin</td>\n",
              "    </tr>\n",
              "    <tr>\n",
              "      <th>2</th>\n",
              "      <td>2009-01-21</td>\n",
              "      <td>looking ways add anonymity bitcoin</td>\n",
              "    </tr>\n",
              "    <tr>\n",
              "      <th>3</th>\n",
              "      <td>2009-01-27</td>\n",
              "      <td>thinking reduce co emissions widespread bitcoi...</td>\n",
              "    </tr>\n",
              "    <tr>\n",
              "      <th>4</th>\n",
              "      <td>2009-01-29</td>\n",
              "      <td>satoshi nakamoto bitcoin v available</td>\n",
              "    </tr>\n",
              "    <tr>\n",
              "      <th>...</th>\n",
              "      <td>...</td>\n",
              "      <td>...</td>\n",
              "    </tr>\n",
              "    <tr>\n",
              "      <th>14557260</th>\n",
              "      <td>2019-11-23</td>\n",
              "      <td>market cap btc dominance btc eth btc xrp btc u...</td>\n",
              "    </tr>\n",
              "    <tr>\n",
              "      <th>14557259</th>\n",
              "      <td>2019-11-23</td>\n",
              "      <td>esax ieo technology</td>\n",
              "    </tr>\n",
              "    <tr>\n",
              "      <th>14557258</th>\n",
              "      <td>2019-11-23</td>\n",
              "      <td>register early access codugh api marketplace p...</td>\n",
              "    </tr>\n",
              "    <tr>\n",
              "      <th>14557256</th>\n",
              "      <td>2019-11-23</td>\n",
              "      <td>new bitcoin report block transactions usd tota...</td>\n",
              "    </tr>\n",
              "    <tr>\n",
              "      <th>14575393</th>\n",
              "      <td>2019-11-23</td>\n",
              "      <td>btc update longer term view btc price action s...</td>\n",
              "    </tr>\n",
              "  </tbody>\n",
              "</table>\n",
              "<p>14575394 rows × 2 columns</p>\n",
              "</div>"
            ],
            "text/plain": [
              "                date                                             review\n",
              "0         2007-04-19  happily mugging btc hook future rich lawyer bf...\n",
              "1         2009-01-11                                    running bitcoin\n",
              "2         2009-01-21                 looking ways add anonymity bitcoin\n",
              "3         2009-01-27  thinking reduce co emissions widespread bitcoi...\n",
              "4         2009-01-29               satoshi nakamoto bitcoin v available\n",
              "...              ...                                                ...\n",
              "14557260  2019-11-23  market cap btc dominance btc eth btc xrp btc u...\n",
              "14557259  2019-11-23                                esax ieo technology\n",
              "14557258  2019-11-23  register early access codugh api marketplace p...\n",
              "14557256  2019-11-23  new bitcoin report block transactions usd tota...\n",
              "14575393  2019-11-23  btc update longer term view btc price action s...\n",
              "\n",
              "[14575394 rows x 2 columns]"
            ]
          },
          "metadata": {},
          "execution_count": 16
        }
      ]
    },
    {
      "cell_type": "code",
      "metadata": {
        "id": "DZbjObtUhbVf"
      },
      "source": [
        "dataframe =df"
      ],
      "execution_count": null,
      "outputs": []
    },
    {
      "cell_type": "code",
      "metadata": {
        "id": "wGZdom63iyJY"
      },
      "source": [
        "dataframe['date'] = dataframe['date'].astype(str)\n",
        "dataframe['review'] = dataframe['review'].astype(str)"
      ],
      "execution_count": null,
      "outputs": []
    },
    {
      "cell_type": "code",
      "metadata": {
        "id": "u0MmnVjDiAwI"
      },
      "source": [
        "df_done = dataframe[dataframe['date'].str.contains('2014-09|2014-10|2014-11|2014-12|2015|2016|2017|2018|2019')]"
      ],
      "execution_count": null,
      "outputs": []
    },
    {
      "cell_type": "code",
      "metadata": {
        "id": "RmYwNxyJjEYt"
      },
      "source": [
        "df_done.to_csv('tweets_for_wordcloud.csv')"
      ],
      "execution_count": null,
      "outputs": []
    },
    {
      "cell_type": "markdown",
      "metadata": {
        "id": "EJROmM86jdmf"
      },
      "source": [
        "### 워드 클라우드"
      ]
    },
    {
      "cell_type": "code",
      "metadata": {
        "id": "nwj9EeT3kNr1"
      },
      "source": [
        "import numpy as np\n",
        "import pandas as pd"
      ],
      "execution_count": null,
      "outputs": []
    },
    {
      "cell_type": "code",
      "metadata": {
        "colab": {
          "base_uri": "https://localhost:8080/",
          "height": 206
        },
        "id": "SnrOERnajY8-",
        "outputId": "e28d9d9d-4284-4f7f-e7fd-b4f14a112c19"
      },
      "source": [
        "df = pd.read_csv('/content/drive/MyDrive/tweet_bitcoin/tweets_for_wordcloud.csv')\n",
        "df.head()"
      ],
      "execution_count": null,
      "outputs": [
        {
          "output_type": "execute_result",
          "data": {
            "text/html": [
              "<div>\n",
              "<style scoped>\n",
              "    .dataframe tbody tr th:only-of-type {\n",
              "        vertical-align: middle;\n",
              "    }\n",
              "\n",
              "    .dataframe tbody tr th {\n",
              "        vertical-align: top;\n",
              "    }\n",
              "\n",
              "    .dataframe thead th {\n",
              "        text-align: right;\n",
              "    }\n",
              "</style>\n",
              "<table border=\"1\" class=\"dataframe\">\n",
              "  <thead>\n",
              "    <tr style=\"text-align: right;\">\n",
              "      <th></th>\n",
              "      <th>Unnamed: 0</th>\n",
              "      <th>date</th>\n",
              "      <th>review</th>\n",
              "    </tr>\n",
              "  </thead>\n",
              "  <tbody>\n",
              "    <tr>\n",
              "      <th>0</th>\n",
              "      <td>286895</td>\n",
              "      <td>2014-09-01</td>\n",
              "      <td>utc h range volume btc</td>\n",
              "    </tr>\n",
              "    <tr>\n",
              "      <th>1</th>\n",
              "      <td>286893</td>\n",
              "      <td>2014-09-01</td>\n",
              "      <td>last mins arb opps spanning exchange pair yiel...</td>\n",
              "    </tr>\n",
              "    <tr>\n",
              "      <th>2</th>\n",
              "      <td>286894</td>\n",
              "      <td>2014-09-01</td>\n",
              "      <td>live profit buy b bitfinex sell vircurex bitco...</td>\n",
              "    </tr>\n",
              "    <tr>\n",
              "      <th>3</th>\n",
              "      <td>286891</td>\n",
              "      <td>2014-09-01</td>\n",
              "      <td>last mins arb opps spanning exchange pair yiel...</td>\n",
              "    </tr>\n",
              "    <tr>\n",
              "      <th>4</th>\n",
              "      <td>286892</td>\n",
              "      <td>2014-09-01</td>\n",
              "      <td>last mins arb opps spanning exchange pair yiel...</td>\n",
              "    </tr>\n",
              "  </tbody>\n",
              "</table>\n",
              "</div>"
            ],
            "text/plain": [
              "   Unnamed: 0        date                                             review\n",
              "0      286895  2014-09-01                             utc h range volume btc\n",
              "1      286893  2014-09-01  last mins arb opps spanning exchange pair yiel...\n",
              "2      286894  2014-09-01  live profit buy b bitfinex sell vircurex bitco...\n",
              "3      286891  2014-09-01  last mins arb opps spanning exchange pair yiel...\n",
              "4      286892  2014-09-01  last mins arb opps spanning exchange pair yiel..."
            ]
          },
          "metadata": {},
          "execution_count": 2
        }
      ]
    },
    {
      "cell_type": "code",
      "metadata": {
        "colab": {
          "base_uri": "https://localhost:8080/",
          "height": 423
        },
        "id": "7mP5NI3glAx0",
        "outputId": "aeaf2dd8-43f4-404e-c0f1-a837d2356a20"
      },
      "source": [
        "df = df[['date','review']]\n",
        "df"
      ],
      "execution_count": null,
      "outputs": [
        {
          "output_type": "execute_result",
          "data": {
            "text/html": [
              "<div>\n",
              "<style scoped>\n",
              "    .dataframe tbody tr th:only-of-type {\n",
              "        vertical-align: middle;\n",
              "    }\n",
              "\n",
              "    .dataframe tbody tr th {\n",
              "        vertical-align: top;\n",
              "    }\n",
              "\n",
              "    .dataframe thead th {\n",
              "        text-align: right;\n",
              "    }\n",
              "</style>\n",
              "<table border=\"1\" class=\"dataframe\">\n",
              "  <thead>\n",
              "    <tr style=\"text-align: right;\">\n",
              "      <th></th>\n",
              "      <th>date</th>\n",
              "      <th>review</th>\n",
              "    </tr>\n",
              "  </thead>\n",
              "  <tbody>\n",
              "    <tr>\n",
              "      <th>0</th>\n",
              "      <td>2014-09-01</td>\n",
              "      <td>utc h range volume btc</td>\n",
              "    </tr>\n",
              "    <tr>\n",
              "      <th>1</th>\n",
              "      <td>2014-09-01</td>\n",
              "      <td>last mins arb opps spanning exchange pair yiel...</td>\n",
              "    </tr>\n",
              "    <tr>\n",
              "      <th>2</th>\n",
              "      <td>2014-09-01</td>\n",
              "      <td>live profit buy b bitfinex sell vircurex bitco...</td>\n",
              "    </tr>\n",
              "    <tr>\n",
              "      <th>3</th>\n",
              "      <td>2014-09-01</td>\n",
              "      <td>last mins arb opps spanning exchange pair yiel...</td>\n",
              "    </tr>\n",
              "    <tr>\n",
              "      <th>4</th>\n",
              "      <td>2014-09-01</td>\n",
              "      <td>last mins arb opps spanning exchange pair yiel...</td>\n",
              "    </tr>\n",
              "    <tr>\n",
              "      <th>...</th>\n",
              "      <td>...</td>\n",
              "      <td>...</td>\n",
              "    </tr>\n",
              "    <tr>\n",
              "      <th>14288933</th>\n",
              "      <td>2019-11-23</td>\n",
              "      <td>market cap btc dominance btc eth btc xrp btc u...</td>\n",
              "    </tr>\n",
              "    <tr>\n",
              "      <th>14288934</th>\n",
              "      <td>2019-11-23</td>\n",
              "      <td>esax ieo technology</td>\n",
              "    </tr>\n",
              "    <tr>\n",
              "      <th>14288935</th>\n",
              "      <td>2019-11-23</td>\n",
              "      <td>register early access codugh api marketplace p...</td>\n",
              "    </tr>\n",
              "    <tr>\n",
              "      <th>14288936</th>\n",
              "      <td>2019-11-23</td>\n",
              "      <td>new bitcoin report block transactions usd tota...</td>\n",
              "    </tr>\n",
              "    <tr>\n",
              "      <th>14288937</th>\n",
              "      <td>2019-11-23</td>\n",
              "      <td>btc update longer term view btc price action s...</td>\n",
              "    </tr>\n",
              "  </tbody>\n",
              "</table>\n",
              "<p>14288938 rows × 2 columns</p>\n",
              "</div>"
            ],
            "text/plain": [
              "                date                                             review\n",
              "0         2014-09-01                             utc h range volume btc\n",
              "1         2014-09-01  last mins arb opps spanning exchange pair yiel...\n",
              "2         2014-09-01  live profit buy b bitfinex sell vircurex bitco...\n",
              "3         2014-09-01  last mins arb opps spanning exchange pair yiel...\n",
              "4         2014-09-01  last mins arb opps spanning exchange pair yiel...\n",
              "...              ...                                                ...\n",
              "14288933  2019-11-23  market cap btc dominance btc eth btc xrp btc u...\n",
              "14288934  2019-11-23                                esax ieo technology\n",
              "14288935  2019-11-23  register early access codugh api marketplace p...\n",
              "14288936  2019-11-23  new bitcoin report block transactions usd tota...\n",
              "14288937  2019-11-23  btc update longer term view btc price action s...\n",
              "\n",
              "[14288938 rows x 2 columns]"
            ]
          },
          "metadata": {},
          "execution_count": 3
        }
      ]
    },
    {
      "cell_type": "markdown",
      "metadata": {
        "id": "wj38HRcmTSa-"
      },
      "source": [
        "#### 2015-06 ~ 08 \n",
        "2015년 8월 52주 신저가 갱신"
      ]
    },
    {
      "cell_type": "code",
      "metadata": {
        "id": "wdoQQf70c7Zd"
      },
      "source": [
        "import nltk\n",
        "import pickle\n",
        "from nltk.corpus import stopwords\n",
        "import re\n",
        "nltk.download('all')"
      ],
      "execution_count": null,
      "outputs": []
    },
    {
      "cell_type": "code",
      "metadata": {
        "id": "yMsrdmcWJgcT"
      },
      "source": [
        "df_2019_de = df[df['date'].str.contains('2019-04')]"
      ],
      "execution_count": null,
      "outputs": []
    },
    {
      "cell_type": "code",
      "metadata": {
        "id": "B1xVcQA_bP1V"
      },
      "source": [
        "df_de = df[df['date'].str.contains('2017-06-14')]"
      ],
      "execution_count": null,
      "outputs": []
    },
    {
      "cell_type": "code",
      "metadata": {
        "colab": {
          "base_uri": "https://localhost:8080/"
        },
        "id": "1tqUKGoodB4d",
        "outputId": "f702e032-42fe-4d08-f140-02eddf06820c"
      },
      "source": [
        "# 불필요한 심볼을 없애고 문장 단위로 끊었다.\n",
        "df_de = re.sub(r'[^\\.\\?\\!\\w\\d\\s]','',str(df_de['review'])) # 문장단위로 끊기\n",
        "print(df_de)"
      ],
      "execution_count": null,
      "outputs": [
        {
          "output_type": "stream",
          "name": "stdout",
          "text": [
            "594600         bitcoin ultima r alta r baixa r fonte foxbit\n",
            "594601            btc bitcoin quotes bitstamp btce coinbase\n",
            "594602            btc bitcoin quotes bitstamp btce coinbase\n",
            "594603    btc hr summary last high low change volume btc...\n",
            "594604    would auspicious buy https bittylicious com re...\n",
            "                                ...                        \n",
            "598857    current value doge btc vircurex volume today t...\n",
            "598858    bitcoin needs regulation boom morgan stanley h...\n",
            "598859    xekylnvm ttg vmak btc free lottery get free bi...\n",
            "598860    gonna risk drop alts bitcoin goes shit one day...\n",
            "598861    believe already atm bitcoin awesome check http...\n",
            "Name review Length 4262 dtype object\n"
          ]
        }
      ]
    },
    {
      "cell_type": "code",
      "metadata": {
        "id": "Ai3s8I-SeNNZ"
      },
      "source": [
        "# 모두 소문자로 변환한다.\n",
        "df_de = df_de.lower()"
      ],
      "execution_count": null,
      "outputs": []
    },
    {
      "cell_type": "code",
      "metadata": {
        "colab": {
          "base_uri": "https://localhost:8080/"
        },
        "id": "y-4pUPH3eP6-",
        "outputId": "3b35c2dc-39e6-41a8-a22e-479827c8934e"
      },
      "source": [
        "# 각각의 워드를 토큰으로 쪼갠다.\n",
        "word_tokens = nltk.word_tokenize(df_de)\n",
        "print(word_tokens)"
      ],
      "execution_count": null,
      "outputs": [
        {
          "output_type": "stream",
          "name": "stdout",
          "text": [
            "['594600', 'bitcoin', 'ultima', 'r', 'alta', 'r', 'baixa', 'r', 'fonte', 'foxbit', '594601', 'btc', 'bitcoin', 'quotes', 'bitstamp', 'btce', 'coinbase', '594602', 'btc', 'bitcoin', 'quotes', 'bitstamp', 'btce', 'coinbase', '594603', 'btc', 'hr', 'summary', 'last', 'high', 'low', 'change', 'volume', 'btc', '...', '594604', 'would', 'auspicious', 'buy', 'https', 'bittylicious', 'com', 're', '...', '...', '598857', 'current', 'value', 'doge', 'btc', 'vircurex', 'volume', 'today', 't', '...', '598858', 'bitcoin', 'needs', 'regulation', 'boom', 'morgan', 'stanley', 'h', '...', '598859', 'xekylnvm', 'ttg', 'vmak', 'btc', 'free', 'lottery', 'get', 'free', 'bi', '...', '598860', 'gon', 'na', 'risk', 'drop', 'alts', 'bitcoin', 'goes', 'shit', 'one', 'day', '...', '598861', 'believe', 'already', 'atm', 'bitcoin', 'awesome', 'check', 'http', '...', 'name', 'review', 'length', '4262', 'dtype', 'object']\n"
          ]
        }
      ]
    },
    {
      "cell_type": "code",
      "metadata": {
        "colab": {
          "base_uri": "https://localhost:8080/"
        },
        "id": "quUlXrzImQlU",
        "outputId": "dc3f5688-d301-4bd3-ba65-3d4efdf010bf"
      },
      "source": [
        "# 품사를 분리한다.\n",
        "# 영어의 경우는 nltk에서 제공하는 pos_tag() 함수를 사용해서 품사 태깅을 할 수 있다\n",
        "# pos_tag()의 입력값으로는 단어의 리스트가 들어가야 한다.\n",
        "tokens_pos = nltk.pos_tag(word_tokens)\n",
        "print(tokens_pos)"
      ],
      "execution_count": null,
      "outputs": [
        {
          "output_type": "stream",
          "name": "stdout",
          "text": [
            "[('594600', 'CD'), ('bitcoin', 'NN'), ('ultima', 'JJ'), ('r', 'NN'), ('alta', 'NN'), ('r', 'NN'), ('baixa', 'NN'), ('r', 'NN'), ('fonte', 'JJ'), ('foxbit', 'NN'), ('594601', 'CD'), ('btc', 'NN'), ('bitcoin', 'NN'), ('quotes', 'VBZ'), ('bitstamp', 'JJ'), ('btce', 'NN'), ('coinbase', 'NN'), ('594602', 'CD'), ('btc', 'NN'), ('bitcoin', 'NN'), ('quotes', 'VBZ'), ('bitstamp', 'JJ'), ('btce', 'NN'), ('coinbase', 'NN'), ('594603', 'CD'), ('btc', 'NN'), ('hr', 'NN'), ('summary', 'NN'), ('last', 'JJ'), ('high', 'JJ'), ('low', 'JJ'), ('change', 'NN'), ('volume', 'NN'), ('btc', 'NN'), ('...', ':'), ('594604', 'CD'), ('would', 'MD'), ('auspicious', 'JJ'), ('buy', 'VB'), ('https', 'JJ'), ('bittylicious', 'JJ'), ('com', 'NN'), ('re', 'NN'), ('...', ':'), ('...', ':'), ('598857', 'CD'), ('current', 'JJ'), ('value', 'NN'), ('doge', 'NN'), ('btc', 'IN'), ('vircurex', 'NN'), ('volume', 'NN'), ('today', 'NN'), ('t', 'VBP'), ('...', ':'), ('598858', 'CD'), ('bitcoin', 'NN'), ('needs', 'NNS'), ('regulation', 'NN'), ('boom', 'NN'), ('morgan', 'NN'), ('stanley', 'NN'), ('h', 'NN'), ('...', ':'), ('598859', 'CD'), ('xekylnvm', 'JJ'), ('ttg', 'NN'), ('vmak', 'NN'), ('btc', 'VBD'), ('free', 'JJ'), ('lottery', 'NN'), ('get', 'VB'), ('free', 'JJ'), ('bi', 'NN'), ('...', ':'), ('598860', 'CD'), ('gon', 'NN'), ('na', 'TO'), ('risk', 'NN'), ('drop', 'NN'), ('alts', 'NNS'), ('bitcoin', 'NN'), ('goes', 'VBZ'), ('shit', 'JJ'), ('one', 'CD'), ('day', 'NN'), ('...', ':'), ('598861', 'CD'), ('believe', 'VBP'), ('already', 'RB'), ('atm', 'JJ'), ('bitcoin', 'NN'), ('awesome', 'JJ'), ('check', 'NN'), ('http', 'NN'), ('...', ':'), ('name', 'NN'), ('review', 'NN'), ('length', 'NN'), ('4262', 'CD'), ('dtype', 'NN'), ('object', 'NN')]\n"
          ]
        }
      ]
    },
    {
      "cell_type": "code",
      "metadata": {
        "colab": {
          "base_uri": "https://localhost:8080/"
        },
        "id": "AQAWDoIqR1H_",
        "outputId": "b77ef2cd-43fe-4d2a-a7f2-efd01e0a6967"
      },
      "source": [
        "# 명사만 추출하기\n",
        "# 명사는 NN을 포함하고 있음을 알 수 있음\n",
        "NN_words = []\n",
        "for word, pos in tokens_pos:\n",
        "    if 'NN' or 'JJ' in pos:\n",
        "        NN_words.append(word)\n",
        "print(NN_words)"
      ],
      "execution_count": null,
      "outputs": [
        {
          "output_type": "stream",
          "name": "stdout",
          "text": [
            "['594600', 'bitcoin', 'ultima', 'r', 'alta', 'r', 'baixa', 'r', 'fonte', 'foxbit', '594601', 'btc', 'bitcoin', 'quotes', 'bitstamp', 'btce', 'coinbase', '594602', 'btc', 'bitcoin', 'quotes', 'bitstamp', 'btce', 'coinbase', '594603', 'btc', 'hr', 'summary', 'last', 'high', 'low', 'change', 'volume', 'btc', '...', '594604', 'would', 'auspicious', 'buy', 'https', 'bittylicious', 'com', 're', '...', '...', '598857', 'current', 'value', 'doge', 'btc', 'vircurex', 'volume', 'today', 't', '...', '598858', 'bitcoin', 'needs', 'regulation', 'boom', 'morgan', 'stanley', 'h', '...', '598859', 'xekylnvm', 'ttg', 'vmak', 'btc', 'free', 'lottery', 'get', 'free', 'bi', '...', '598860', 'gon', 'na', 'risk', 'drop', 'alts', 'bitcoin', 'goes', 'shit', 'one', 'day', '...', '598861', 'believe', 'already', 'atm', 'bitcoin', 'awesome', 'check', 'http', '...', 'name', 'review', 'length', '4262', 'dtype', 'object']\n"
          ]
        }
      ]
    },
    {
      "cell_type": "code",
      "metadata": {
        "colab": {
          "base_uri": "https://localhost:8080/"
        },
        "id": "ZieAydb4mfb1",
        "outputId": "2ffb8f18-2cae-4df8-aa92-1d69469c5e20"
      },
      "source": [
        "# Lemmatization(원형(lemma) 찾기)\n",
        "# 영어는 각 word의 원형을 찾는 기능을 활용할 수 있다. 원형을 찾아 같은 의미의 단어 토큰들을 하나의 값으로 인지하도록 한다. 자세한 내용은 아래 링크에서 확인할 수 있다.\n",
        "# https://textminingonline.com/dive-into-nltk-part-iv-stemming-and-lemmatization\n",
        "# nltk에서 제공되는 WordNetLemmatizer을 이용\n",
        "# ex) 명사의 경우는 보통 복수 -> 단수 형태로 변형\n",
        "wlem = nltk.WordNetLemmatizer()\n",
        "lemmatized_words = []\n",
        "for word in NN_words:\n",
        "    new_word = wlem.lemmatize(word)\n",
        "    lemmatized_words.append(new_word)\n",
        "\n",
        "print(lemmatized_words)"
      ],
      "execution_count": null,
      "outputs": [
        {
          "output_type": "stream",
          "name": "stdout",
          "text": [
            "['594600', 'bitcoin', 'ultima', 'r', 'alta', 'r', 'baixa', 'r', 'fonte', 'foxbit', '594601', 'btc', 'bitcoin', 'quote', 'bitstamp', 'btce', 'coinbase', '594602', 'btc', 'bitcoin', 'quote', 'bitstamp', 'btce', 'coinbase', '594603', 'btc', 'hr', 'summary', 'last', 'high', 'low', 'change', 'volume', 'btc', '...', '594604', 'would', 'auspicious', 'buy', 'http', 'bittylicious', 'com', 're', '...', '...', '598857', 'current', 'value', 'doge', 'btc', 'vircurex', 'volume', 'today', 't', '...', '598858', 'bitcoin', 'need', 'regulation', 'boom', 'morgan', 'stanley', 'h', '...', '598859', 'xekylnvm', 'ttg', 'vmak', 'btc', 'free', 'lottery', 'get', 'free', 'bi', '...', '598860', 'gon', 'na', 'risk', 'drop', 'alt', 'bitcoin', 'go', 'shit', 'one', 'day', '...', '598861', 'believe', 'already', 'atm', 'bitcoin', 'awesome', 'check', 'http', '...', 'name', 'review', 'length', '4262', 'dtype', 'object']\n"
          ]
        }
      ]
    },
    {
      "cell_type": "code",
      "metadata": {
        "id": "RDsJH8sOmoP-"
      },
      "source": [
        "# nltk에서 제공하는 불용어 사전을 통해 사용하지 않을 단어를 제거할 수 있다. 불용어 기본 사전을 통해 1차 제거용으로 활용한다.\n",
        "stopwords_list = stopwords.words('english') #nltk에서 제공하는 불용어사전 이용\n",
        "#print('stopwords: ', stopwords_list)\n",
        "unique_NN_words = set(lemmatized_words)\n",
        "final_NN_words = lemmatized_words\n",
        "\n",
        "# 불용어 제거\n",
        "for word in unique_NN_words:\n",
        "    if word in stopwords_list:\n",
        "        while word in final_NN_words: final_NN_words.remove(word)\n",
        "\n"
      ],
      "execution_count": null,
      "outputs": []
    },
    {
      "cell_type": "code",
      "metadata": {
        "id": "SaAfYNzboXXx"
      },
      "source": [
        "# 3글자 이상만 추출\n",
        "final_NN_words = [e for e in final_NN_words if len(e) >= 3]"
      ],
      "execution_count": null,
      "outputs": []
    },
    {
      "cell_type": "code",
      "metadata": {
        "colab": {
          "base_uri": "https://localhost:8080/"
        },
        "id": "P5mumh-5o6I_",
        "outputId": "46cc262a-4c33-4fee-d0aa-089fa26341e8"
      },
      "source": [
        "customized_stopwords = ['btc', 'min', \"inr\", \"http\", \"dtype\", \"object\", \"bitcoin\", \"bit\", \"btce\", \"btcusd\", \"range\", \"average\", \"sell\",\n",
        "                        'volume', 'change', 'price', 'review', 'size', 'byte', 'gbtc','trend', 'cap', 'worth' ] # 직접 만든 불용어 사전\n",
        "\n",
        "unique_NN_words1 = set(final_NN_words)\n",
        "for word in unique_NN_words1:\n",
        "    if word in customized_stopwords:\n",
        "        while word in final_NN_words: final_NN_words.remove(word)\n",
        "\n",
        "print(final_NN_words)"
      ],
      "execution_count": null,
      "outputs": [
        {
          "output_type": "stream",
          "name": "stdout",
          "text": [
            "['594600', 'ultima', 'alta', 'baixa', 'fonte', 'foxbit', '594601', 'quote', 'bitstamp', 'coinbase', '594602', 'quote', 'bitstamp', 'coinbase', '594603', 'summary', 'last', 'high', 'low', '...', '594604', 'would', 'auspicious', 'buy', 'bittylicious', 'com', '...', '...', '598857', 'current', 'value', 'doge', 'vircurex', 'today', '...', '598858', 'need', 'regulation', 'boom', 'morgan', 'stanley', '...', '598859', 'xekylnvm', 'ttg', 'vmak', 'free', 'lottery', 'get', 'free', '...', '598860', 'gon', 'risk', 'drop', 'alt', 'shit', 'one', 'day', '...', '598861', 'believe', 'already', 'atm', 'awesome', 'check', '...', 'name', 'length', '4262']\n"
          ]
        }
      ]
    },
    {
      "cell_type": "code",
      "metadata": {
        "colab": {
          "base_uri": "https://localhost:8080/"
        },
        "id": "lQnJtlcZmvLh",
        "outputId": "9b34dcc4-7bf2-441b-cbb7-227f70c606d0"
      },
      "source": [
        "# 빈도 분석\n",
        "from collections import Counter\n",
        "c = Counter(final_NN_words) # input type should be a list of words (or tokens)\n",
        "print(c)\n",
        "k = 50\n",
        "print(c.most_common(k)) # 빈도수 기준 상위 k개 단어 출력"
      ],
      "execution_count": null,
      "outputs": [
        {
          "output_type": "stream",
          "name": "stdout",
          "text": [
            "Counter({'...': 8, 'quote': 2, 'bitstamp': 2, 'coinbase': 2, 'free': 2, '594600': 1, 'ultima': 1, 'alta': 1, 'baixa': 1, 'fonte': 1, 'foxbit': 1, '594601': 1, '594602': 1, '594603': 1, 'summary': 1, 'last': 1, 'high': 1, 'low': 1, '594604': 1, 'would': 1, 'auspicious': 1, 'buy': 1, 'bittylicious': 1, 'com': 1, '598857': 1, 'current': 1, 'value': 1, 'doge': 1, 'vircurex': 1, 'today': 1, '598858': 1, 'need': 1, 'regulation': 1, 'boom': 1, 'morgan': 1, 'stanley': 1, '598859': 1, 'xekylnvm': 1, 'ttg': 1, 'vmak': 1, 'lottery': 1, 'get': 1, '598860': 1, 'gon': 1, 'risk': 1, 'drop': 1, 'alt': 1, 'shit': 1, 'one': 1, 'day': 1, '598861': 1, 'believe': 1, 'already': 1, 'atm': 1, 'awesome': 1, 'check': 1, 'name': 1, 'length': 1, '4262': 1})\n",
            "[('...', 8), ('quote', 2), ('bitstamp', 2), ('coinbase', 2), ('free', 2), ('594600', 1), ('ultima', 1), ('alta', 1), ('baixa', 1), ('fonte', 1), ('foxbit', 1), ('594601', 1), ('594602', 1), ('594603', 1), ('summary', 1), ('last', 1), ('high', 1), ('low', 1), ('594604', 1), ('would', 1), ('auspicious', 1), ('buy', 1), ('bittylicious', 1), ('com', 1), ('598857', 1), ('current', 1), ('value', 1), ('doge', 1), ('vircurex', 1), ('today', 1), ('598858', 1), ('need', 1), ('regulation', 1), ('boom', 1), ('morgan', 1), ('stanley', 1), ('598859', 1), ('xekylnvm', 1), ('ttg', 1), ('vmak', 1), ('lottery', 1), ('get', 1), ('598860', 1), ('gon', 1), ('risk', 1), ('drop', 1), ('alt', 1), ('shit', 1), ('one', 1), ('day', 1)]\n"
          ]
        }
      ]
    },
    {
      "cell_type": "code",
      "metadata": {
        "colab": {
          "base_uri": "https://localhost:8080/",
          "height": 71
        },
        "id": "54E20TgfmzyB",
        "outputId": "c5f9f0c0-2871-4a64-8882-8323a8960652"
      },
      "source": [
        "import wordcloud\n",
        "from wordcloud import WordCloud\n",
        "import matplotlib.pyplot as plt\n",
        "from os import path\n",
        "\n",
        "noun_text = ''\n",
        "for word in final_NN_words:\n",
        "    noun_text = noun_text +' '+word\n",
        "noun_text"
      ],
      "execution_count": null,
      "outputs": [
        {
          "output_type": "execute_result",
          "data": {
            "application/vnd.google.colaboratory.intrinsic+json": {
              "type": "string"
            },
            "text/plain": [
              "' 594600 ultima alta baixa fonte foxbit 594601 quote bitstamp coinbase 594602 quote bitstamp coinbase 594603 summary last high low ... 594604 would auspicious buy bittylicious com ... ... 598857 current value doge vircurex today ... 598858 need regulation boom morgan stanley ... 598859 xekylnvm ttg vmak free lottery get free ... 598860 gon risk drop alt shit one day ... 598861 believe already atm awesome check ... name length 4262'"
            ]
          },
          "metadata": {},
          "execution_count": 134
        }
      ]
    },
    {
      "cell_type": "code",
      "metadata": {
        "colab": {
          "base_uri": "https://localhost:8080/",
          "height": 198
        },
        "id": "g6ZSErPTm-Qz",
        "outputId": "fcead228-cc8d-45f4-8007-8a6937633465"
      },
      "source": [
        "wordcloud = WordCloud(max_font_size=50, max_words=30, background_color='white', relative_scaling=.5).generate(noun_text)\n",
        "plt.figure()\n",
        "plt.imshow(wordcloud, interpolation='bilinear')\n",
        "plt.axis(\"off\")\n",
        "plt.show()"
      ],
      "execution_count": null,
      "outputs": [
        {
          "output_type": "display_data",
          "data": {
            "image/png": "[encoded data removed]",
            "text/plain": [
              "<Figure size 432x288 with 1 Axes>"
            ]
          },
          "metadata": {
            "needs_background": "light"
          }
        }
      ]
    }
  ]
}
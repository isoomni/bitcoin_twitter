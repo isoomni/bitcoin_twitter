{
  "nbformat": 4,
  "nbformat_minor": 0,
  "metadata": {
    "accelerator": "GPU",
    "colab": {
      "name": "비트코인 트위터 전처리.ipynb",
      "provenance": [],
      "collapsed_sections": [],
      "mount_file_id": "1BEyiNo8J3lgQvjZJXQmQBYtpsm0eAm37",
      "authorship_tag": "ABX9TyNEBYFWBdrJccFDxMWNHl6R",
      "include_colab_link": true
    },
    "kernelspec": {
      "display_name": "Python 3",
      "name": "python3"
    },
    "language_info": {
      "name": "python"
    }
  },
  "cells": [
    {
      "cell_type": "markdown",
      "metadata": {
        "id": "view-in-github",
        "colab_type": "text"
      },
      "source": [
        "<a href=\"https://colab.research.google.com/github/isoomni/bitcoin_twitter/blob/master/preprocessing_to_eng.ipynb\" target=\"_parent\"><img src=\"https://colab.research.google.com/assets/colab-badge.svg\" alt=\"Open In Colab\"/></a>"
      ]
    },
    {
      "cell_type": "code",
      "metadata": {
        "colab": {
          "base_uri": "https://localhost:8080/"
        },
        "id": "_BjG_58HMZp3",
        "outputId": "bba6018d-55a8-4c20-ac6c-3521312f4f5e"
      },
      "source": [
        "cd /content/drive/MyDrive/"
      ],
      "execution_count": null,
      "outputs": [
        {
          "name": "stdout",
          "output_type": "stream",
          "text": [
            "/content/drive/MyDrive\n"
          ]
        }
      ]
    },
    {
      "cell_type": "code",
      "metadata": {
        "id": "XlLLFl9yNJtw"
      },
      "source": [
        "import pandas as pd"
      ],
      "execution_count": null,
      "outputs": []
    },
    {
      "cell_type": "code",
      "metadata": {
        "colab": {
          "base_uri": "https://localhost:8080/",
          "height": 262
        },
        "id": "GMzzplC3NAJl",
        "outputId": "b2618881-03cf-4920-8803-c59b148dc40a"
      },
      "source": [
        "tweets = pd.read_csv('tweets.csv',sep=';',usecols=[\"timestamp\", \"text\"])\n",
        "tweets.head()"
      ],
      "execution_count": null,
      "outputs": [
        {
          "name": "stderr",
          "output_type": "stream",
          "text": [
            "/usr/local/lib/python3.7/dist-packages/IPython/core/interactiveshell.py:2718: DtypeWarning: Columns (4,8) have mixed types.Specify dtype option on import or set low_memory=False.\n",
            "  interactivity=interactivity, compiler=compiler, result=result)\n"
          ]
        },
        {
          "data": {
            "text/html": [
              "<div>\n",
              "<style scoped>\n",
              "    .dataframe tbody tr th:only-of-type {\n",
              "        vertical-align: middle;\n",
              "    }\n",
              "\n",
              "    .dataframe tbody tr th {\n",
              "        vertical-align: top;\n",
              "    }\n",
              "\n",
              "    .dataframe thead th {\n",
              "        text-align: right;\n",
              "    }\n",
              "</style>\n",
              "<table border=\"1\" class=\"dataframe\">\n",
              "  <thead>\n",
              "    <tr style=\"text-align: right;\">\n",
              "      <th></th>\n",
              "      <th>timestamp</th>\n",
              "      <th>text</th>\n",
              "    </tr>\n",
              "  </thead>\n",
              "  <tbody>\n",
              "    <tr>\n",
              "      <th>0</th>\n",
              "      <td>2019-05-27 11:49:14+00</td>\n",
              "      <td>È appena uscito un nuovo video! LES CRYPTOMONN...</td>\n",
              "    </tr>\n",
              "    <tr>\n",
              "      <th>1</th>\n",
              "      <td>2019-05-27 11:49:18+00</td>\n",
              "      <td>Cardano: Digitize Currencies; EOS https://t.co...</td>\n",
              "    </tr>\n",
              "    <tr>\n",
              "      <th>2</th>\n",
              "      <td>2019-05-27 11:49:06+00</td>\n",
              "      <td>Another Test tweet that wasn't caught in the s...</td>\n",
              "    </tr>\n",
              "    <tr>\n",
              "      <th>3</th>\n",
              "      <td>2019-05-27 11:49:22+00</td>\n",
              "      <td>Current Crypto Prices! \\n\\nBTC: $8721.99 USD\\n...</td>\n",
              "    </tr>\n",
              "    <tr>\n",
              "      <th>4</th>\n",
              "      <td>2019-05-27 11:49:23+00</td>\n",
              "      <td>Spiv (Nosar Baz): BITCOIN Is An Asset &amp;amp; NO...</td>\n",
              "    </tr>\n",
              "  </tbody>\n",
              "</table>\n",
              "</div>"
            ],
            "text/plain": [
              "                timestamp                                               text\n",
              "0  2019-05-27 11:49:14+00  È appena uscito un nuovo video! LES CRYPTOMONN...\n",
              "1  2019-05-27 11:49:18+00  Cardano: Digitize Currencies; EOS https://t.co...\n",
              "2  2019-05-27 11:49:06+00  Another Test tweet that wasn't caught in the s...\n",
              "3  2019-05-27 11:49:22+00  Current Crypto Prices! \\n\\nBTC: $8721.99 USD\\n...\n",
              "4  2019-05-27 11:49:23+00  Spiv (Nosar Baz): BITCOIN Is An Asset &amp; NO..."
            ]
          },
          "execution_count": 4,
          "metadata": {},
          "output_type": "execute_result"
        }
      ]
    },
    {
      "cell_type": "code",
      "metadata": {
        "colab": {
          "background_save": true
        },
        "id": "cC7MllPDOz7b"
      },
      "source": [
        "!pip install -qq whatthelang"
      ],
      "execution_count": null,
      "outputs": []
    },
    {
      "cell_type": "code",
      "metadata": {
        "colab": {
          "background_save": true
        },
        "id": "41M88hVdQ2aA"
      },
      "source": [
        "# Reindex\n",
        "tweets.index = range(len(tweets))"
      ],
      "execution_count": null,
      "outputs": []
    },
    {
      "cell_type": "code",
      "metadata": {
        "colab": {
          "background_save": true
        },
        "id": "cT8t6OO4QOiX"
      },
      "source": [
        "# Remove non-english\n",
        "from whatthelang import WhatTheLang\n",
        "wtl = WhatTheLang()"
      ],
      "execution_count": null,
      "outputs": []
    },
    {
      "cell_type": "code",
      "metadata": {
        "colab": {
          "background_save": true
        },
        "id": "nSvQL4YsQS5-"
      },
      "source": [
        "# This function makes easy to handle exceptions (e.g. no text where text should be)\n",
        "# not really needed but can be useful \n",
        "\n",
        "def detect_lang(text):\n",
        "    try: \n",
        "        return wtl.predict_lang(text)\n",
        "    except Exception:\n",
        "        return 'exp'"
      ],
      "execution_count": null,
      "outputs": []
    },
    {
      "cell_type": "code",
      "metadata": {
        "id": "xQdBLpqXQ6Ev"
      },
      "source": [
        "# Added performance measure here...you can leave teh %%time line out\n",
        "\n",
        "%%time\n",
        "\n",
        "tweets['lang'] = tweets['text'].map(lambda t: detect_lang(t))"
      ],
      "execution_count": null,
      "outputs": []
    },
    {
      "cell_type": "code",
      "metadata": {
        "id": "uTsMpxyCQUzf"
      },
      "source": [
        "# keep only english\n",
        "\n",
        "tweets = tweets[tweets.lang == 'en']"
      ],
      "execution_count": null,
      "outputs": []
    },
    {
      "cell_type": "code",
      "metadata": {
        "id": "uxNKEwn_ZxPF"
      },
      "source": [
        "tweets.to_csv('tweets_eng.csv')"
      ],
      "execution_count": null,
      "outputs": []
    }
  ]
}